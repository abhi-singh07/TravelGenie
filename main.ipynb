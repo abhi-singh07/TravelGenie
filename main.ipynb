{
 "cells": [
  {
   "cell_type": "code",
   "execution_count": 4,
   "metadata": {
    "execution": {
     "iopub.execute_input": "2025-04-20T04:53:30.975837Z",
     "iopub.status.busy": "2025-04-20T04:53:30.975345Z",
     "iopub.status.idle": "2025-04-20T04:53:31.264410Z",
     "shell.execute_reply": "2025-04-20T04:53:31.264134Z"
    }
   },
   "outputs": [],
   "source": [
    "import asyncio\n",
    "import aiohttp\n",
    "import json\n",
    "from pprint import pprint\n",
    "from attraction_api import fetch_attractions\n",
    "from hotel_api import HotelRetriever\n",
    "from flight_api import FlightRetriever\n",
    "from llm_retrieve import llm_retrieve\n",
    "from llm_generate import llm_generate"
   ]
  },
  {
   "cell_type": "code",
   "execution_count": 2,
   "metadata": {
    "execution": {
     "iopub.execute_input": "2025-04-20T04:53:31.265939Z",
     "iopub.status.busy": "2025-04-20T04:53:31.265807Z",
     "iopub.status.idle": "2025-04-20T04:53:33.610697Z",
     "shell.execute_reply": "2025-04-20T04:53:33.609739Z"
    }
   },
   "outputs": [
    {
     "name": "stdout",
     "output_type": "stream",
     "text": [
      "Loaded cities and parameters:\n",
      " • Shimla: Arrival=2025-07-11, Departure=2025-07-13, Airport=SLV\n",
      " • Chandigarh: Arrival=2025-07-13, Departure=2025-07-14, Airport=IXC\n",
      " • Dehradun: Arrival=2025-07-14, Departure=2025-07-16, Airport=DED\n",
      " • Delhi: Arrival=2025-07-16, Departure=2025-07-17, Airport=DEL\n"
     ]
    }
   ],
   "source": [
    "with open(\"user_inputs.json\", \"r\") as f:\n",
    "    inputs = json.load(f)\n",
    "\n",
    "trip_plan = llm_retrieve(inputs)\n",
    "print(\"Loaded cities and parameters:\")\n",
    "for city, info in trip_plan.items():\n",
    "    print(f\" • {city}: Arrival={info['Arrival Date']}, Departure={info['Departure Date']}, Airport={info['Airport']}\")\n"
   ]
  },
  {
   "cell_type": "code",
   "execution_count": 5,
   "metadata": {
    "execution": {
     "iopub.execute_input": "2025-04-20T04:53:33.636881Z",
     "iopub.status.busy": "2025-04-20T04:53:33.636738Z",
     "iopub.status.idle": "2025-04-20T04:53:33.638952Z",
     "shell.execute_reply": "2025-04-20T04:53:33.638702Z"
    }
   },
   "outputs": [],
   "source": [
    "async def gather_all():\n",
    "    async with aiohttp.ClientSession() as session:\n",
    "        attraction_tasks = [fetch_attractions(session, city) for city in trip_plan.keys()]\n",
    "        attraction_results = await asyncio.gather(*attraction_tasks)\n",
    "\n",
    "    hotel_results = HotelRetriever(trip_plan, numadults=inputs['num_people'])\n",
    "    flight_results = FlightRetriever(trip_plan, numadults=inputs['num_people'])\n",
    "\n",
    "    return attraction_results, hotel_results, flight_results\n"
   ]
  },
  {
   "cell_type": "code",
   "execution_count": 6,
   "metadata": {
    "execution": {
     "iopub.execute_input": "2025-04-20T04:53:33.640220Z",
     "iopub.status.busy": "2025-04-20T04:53:33.640129Z",
     "iopub.status.idle": "2025-04-20T04:54:03.903407Z",
     "shell.execute_reply": "2025-04-20T04:54:03.902439Z"
    }
   },
   "outputs": [
    {
     "name": "stdout",
     "output_type": "stream",
     "text": [
      "[Attraction] 🔍 Fetching location_id for: Shimla\n",
      "[Attraction] 🔍 Fetching location_id for: Chandigarh\n",
      "[Attraction] 🔍 Fetching location_id for: Dehradun\n",
      "[Attraction] 🔍 Fetching location_id for: Delhi\n",
      "[Attraction] ✅ location_id for Shimla = 304552\n",
      "[Attraction] 🔍 Fetching attractions for Shimla\n",
      "[Attraction] ✅ location_id for Dehradun = 297687\n",
      "[Attraction] 🔍 Fetching attractions for Dehradun\n",
      "[Attraction] 🌐 Raw results count for Shimla: 20\n",
      "[Attraction] 🎯 Returning 10 attractions for Shimla\n",
      "[Attraction] 🌐 Raw results count for Dehradun: 20\n",
      "[Attraction] 🎯 Returning 10 attractions for Dehradun\n",
      "[Attraction] ✅ location_id for Chandigarh = 297596\n",
      "[Attraction] 🔍 Fetching attractions for Chandigarh\n",
      "[Attraction] ✅ location_id for Delhi = 304551\n",
      "[Attraction] 🔍 Fetching attractions for Delhi\n",
      "[Attraction] 🌐 Raw results count for Chandigarh: 20\n",
      "[Attraction] 🎯 Returning 10 attractions for Chandigarh\n",
      "[Attraction] 🌐 Raw results count for Delhi: 20\n",
      "[Attraction] 🎯 Returning 10 attractions for Delhi\n"
     ]
    },
    {
     "ename": "TypeError",
     "evalue": "string indices must be integers, not 'str'",
     "output_type": "error",
     "traceback": [
      "\u001b[0;31m---------------------------------------------------------------------------\u001b[0m",
      "\u001b[0;31mTypeError\u001b[0m                                 Traceback (most recent call last)",
      "Cell \u001b[0;32mIn[6], line 13\u001b[0m\n\u001b[1;32m     11\u001b[0m \u001b[38;5;66;03m# Add hotels\u001b[39;00m\n\u001b[1;32m     12\u001b[0m \u001b[38;5;28;01mfor\u001b[39;00m entry \u001b[38;5;129;01min\u001b[39;00m hotels:\n\u001b[0;32m---> 13\u001b[0m     city \u001b[38;5;241m=\u001b[39m entry[\u001b[38;5;124m\"\u001b[39m\u001b[38;5;124mcity\u001b[39m\u001b[38;5;124m\"\u001b[39m]\n\u001b[1;32m     14\u001b[0m     combined[city][\u001b[38;5;124m\"\u001b[39m\u001b[38;5;124mhotels\u001b[39m\u001b[38;5;124m\"\u001b[39m] \u001b[38;5;241m=\u001b[39m entry[\u001b[38;5;124m\"\u001b[39m\u001b[38;5;124mhotels_by\u001b[39m\u001b[38;5;124m\"\u001b[39m]\n\u001b[1;32m     16\u001b[0m \u001b[38;5;66;03m# Add flights\u001b[39;00m\n",
      "\u001b[0;31mTypeError\u001b[0m: string indices must be integers, not 'str'"
     ]
    }
   ],
   "source": [
    "# Cell 4: Run & Merge\n",
    "attractions, hotels, flights = await gather_all()    "
   ]
  },
  {
   "cell_type": "code",
   "execution_count": 12,
   "metadata": {},
   "outputs": [],
   "source": [
    "# Merge results by city\n",
    "combined = {city: {\"city\": city, \"attractions\": [], \"hotels\": [], \"flights\": []} for city in trip_plan}\n",
    "\n",
    "# Add attractions\n",
    "for entry in attractions:\n",
    "    combined[entry[\"city\"]][\"attractions\"] = entry[\"attractions\"]\n",
    "\n",
    "# Add hotels\n",
    "for city, hotel_data in hotels.items():\n",
    "    combined[city][\"hotels\"] = hotel_data\n",
    "\n",
    "# Add flights\n",
    "for entry in flights:\n",
    "    from_city = entry[\"from\"]\n",
    "    to_city = entry[\"to\"]\n",
    "    date = entry[\"date\"]\n",
    "    flights_data = entry.get(\"flights\")\n",
    "    note = entry.get(\"note\")\n",
    "\n",
    "    # Associate the flight with departure city\n",
    "    combined[from_city].setdefault(\"flights\", []).append({\n",
    "        \"to\": to_city,\n",
    "        \"date\": date,\n",
    "        \"flights\": flights_data,\n",
    "        \"note\": note\n",
    "    })"
   ]
  },
  {
   "cell_type": "code",
   "execution_count": 13,
   "metadata": {
    "execution": {
     "iopub.execute_input": "2025-04-20T04:54:03.908182Z",
     "iopub.status.busy": "2025-04-20T04:54:03.907891Z",
     "iopub.status.idle": "2025-04-20T04:54:03.912097Z",
     "shell.execute_reply": "2025-04-20T04:54:03.911530Z"
    }
   },
   "outputs": [
    {
     "name": "stdout",
     "output_type": "stream",
     "text": [
      "\n",
      "✅ After merging, sample output for first city:\n",
      "{\n",
      "  \"city\": \"Shimla\",\n",
      "  \"attractions\": [\n",
      "    {\n",
      "      \"name\": \"Jakhu Hanuman Temple\",\n",
      "      \"num_reviews\": \"2091\",\n",
      "      \"rating\": \"4.4\",\n",
      "      \"ranking_position\": \"3\",\n",
      "      \"neighborhood_info\": null,\n",
      "      \"description\": \"\",\n",
      "      \"subcategory\": [\n",
      "        {\n",
      "          \"key\": \"47\",\n",
      "          \"name\": \"Sights & Landmarks\"\n",
      "        }\n",
      "      ]\n",
      "    },\n",
      "    {\n",
      "      \"name\": \"The Mall\",\n",
      "      \"num_reviews\": \"2932\",\n",
      "      \"rating\": \"4.2\",\n",
      "      \"ranking_position\": \"7\",\n",
      "      \"neighborhood_info\": null,\n",
      "      \"description\": \"\",\n",
      "      \"subcategory\": [\n",
      "        {\n",
      "          \"key\": \"47\",\n",
      "          \"name\": \"Sights & Landmarks\"\n",
      "        }\n",
      "      ]\n",
      "    },\n",
      "    {\n",
      "      \"name\": \"Kalka - Shimla Railway\",\n",
      "      \"num_reviews\": \"1826\",\n",
      "      \"rating\": \"4.3\",\n",
      "      \"ranking_position\": \"9\",\n",
      "      \"neighborhood_info\": null,\n",
      "      \"description\": \"This railway was built in 1903 to connect the summer capital of India to Punjab.\",\n",
      "      \"subcategory\": [\n",
      "        {\n",
      "          \"key\": \"42\",\n",
      "          \"name\": \"Tours\"\n",
      "        }\n",
      "      ]\n",
      "    },\n",
      "    {\n",
      "      \"name\": \"Indian Institute of Advanced Study\",\n",
      "      \"num_reviews\": \"770\",\n",
      "      \"rating\": \"4.5\",\n",
      "      \"ranking_position\": \"1\",\n",
      "      \"neighborhood_info\": null,\n",
      "      \"description\": \"\",\n",
      "      \"subcategory\": [\n",
      "        {\n",
      "          \"key\": \"47\",\n",
      "          \"name\": \"Sights & Landmarks\"\n",
      "        }\n",
      "      ]\n",
      "    },\n",
      "    {\n",
      "      \"name\": \"Viceregal Lodge\",\n",
      "      \"num_reviews\": \"1515\",\n",
      "      \"rating\": \"4.4\",\n",
      "      \"ranking_position\": \"6\",\n",
      "      \"neighborhood_info\": null,\n",
      "      \"description\": \"\",\n",
      "      \"subcategory\": [\n",
      "        {\n",
      "          \"key\": \"47\",\n",
      "          \"name\": \"Sights & Landmarks\"\n",
      "        }\n",
      "      ]\n",
      "    },\n",
      "    {\n",
      "      \"name\": \"The Ridge\",\n",
      "      \"num_reviews\": \"968\",\n",
      "      \"rating\": \"4.4\",\n",
      "      \"ranking_position\": \"4\",\n",
      "      \"neighborhood_info\": null,\n",
      "      \"description\": \"\",\n",
      "      \"subcategory\": [\n",
      "        {\n",
      "          \"key\": \"47\",\n",
      "          \"name\": \"Sights & Landmarks\"\n",
      "        }\n",
      "      ]\n",
      "    },\n",
      "    {\n",
      "      \"name\": \"Annandale Ground\",\n",
      "      \"num_reviews\": \"260\",\n",
      "      \"rating\": \"4.6\",\n",
      "      \"ranking_position\": \"5\",\n",
      "      \"neighborhood_info\": null,\n",
      "      \"description\": \"\",\n",
      "      \"subcategory\": [\n",
      "        {\n",
      "          \"key\": \"57\",\n",
      "          \"name\": \"Nature & Parks\"\n",
      "        }\n",
      "      ]\n",
      "    },\n",
      "    {\n",
      "      \"name\": \"Green Valley\",\n",
      "      \"num_reviews\": \"384\",\n",
      "      \"rating\": \"4.1\",\n",
      "      \"ranking_position\": \"11\",\n",
      "      \"neighborhood_info\": null,\n",
      "      \"description\": \"\",\n",
      "      \"subcategory\": [\n",
      "        {\n",
      "          \"key\": \"57\",\n",
      "          \"name\": \"Nature & Parks\"\n",
      "        }\n",
      "      ]\n",
      "    },\n",
      "    {\n",
      "      \"name\": \"Kali Bari Temple\",\n",
      "      \"num_reviews\": \"262\",\n",
      "      \"rating\": \"4.4\",\n",
      "      \"ranking_position\": \"10\",\n",
      "      \"neighborhood_info\": null,\n",
      "      \"description\": \"\",\n",
      "      \"subcategory\": [\n",
      "        {\n",
      "          \"key\": \"47\",\n",
      "          \"name\": \"Sights & Landmarks\"\n",
      "        }\n",
      "      ]\n",
      "    },\n",
      "    {\n",
      "      \"name\": \"Jakhoo Hill\",\n",
      "      \"num_reviews\": \"126\",\n",
      "      \"rating\": \"4.3\",\n",
      "      \"ranking_position\": \"13\",\n",
      "      \"neighborhood_info\": null,\n",
      "      \"description\": \"\",\n",
      "      \"subcategory\": [\n",
      "        {\n",
      "          \"key\": \"57\",\n",
      "          \"name\": \"Nature & Parks\"\n",
      "        }\n",
      "      ]\n",
      "    }\n",
      "  ],\n",
      "  \"hotels\": {\n",
      "    \"bayesian_review_score\": [\n",
      "      {\n",
      "        \"name\": \"Wildflower Hall, An Oberoi Resort, Shimla\",\n",
      "        \"price\": 3125.15058650325,\n",
      "        \"review_score\": 9.5\n",
      "      },\n",
      "      {\n",
      "        \"name\": \"SIMLA HOTEL H G N near park and temple\",\n",
      "        \"price\": 147.590675555879,\n",
      "        \"review_score\": 10\n",
      "      },\n",
      "      {\n",
      "        \"name\": \"GS cottage near Mall Road\",\n",
      "        \"price\": 236.145080889406,\n",
      "        \"review_score\": 9.5\n",
      "      }\n",
      "    ],\n",
      "    \"popularity\": [\n",
      "      {\n",
      "        \"name\": \"Himalayan Mountain and Valley View - Garden with bonefire - Ample Parking - Luxury Balcony rooms -by Aachman Stays!! Mashobra\",\n",
      "        \"price\": 161.628188697638,\n",
      "        \"review_score\": 9.9\n",
      "      },\n",
      "      {\n",
      "        \"name\": \"Nature Valley View Resort Mashobra !! Luxury Choice !! gaming zone !! open terrace !! Big Parking\",\n",
      "        \"price\": 176.321660397423,\n",
      "        \"review_score\": 9.1\n",
      "      },\n",
      "      {\n",
      "        \"name\": \"PerfectStayz Shimla\",\n",
      "        \"price\": 148.582484895614,\n",
      "        \"review_score\": 8.9\n",
      "      }\n",
      "    ],\n",
      "    \"price\": [\n",
      "      {\n",
      "        \"name\": \"Staynest Mashobra with balcony\",\n",
      "        \"price\": 33.7949849095062,\n",
      "        \"review_score\": 8.8\n",
      "      },\n",
      "      {\n",
      "        \"name\": \"The Hostelers Homestay Shiimla - Near HPU, Bypass Crossing, ISBT and Advance Study\",\n",
      "        \"price\": 44.6314202880979,\n",
      "        \"review_score\": 8.6\n",
      "      },\n",
      "      {\n",
      "        \"name\": \"Royal Ace !! Mountain view rooms!! Private balcony!!\",\n",
      "        \"price\": 48.4884566092915,\n",
      "        \"review_score\": 9.7\n",
      "      }\n",
      "    ]\n",
      "  },\n",
      "  \"flights\": [\n",
      "    {\n",
      "      \"to\": \"Chandigarh\",\n",
      "      \"date\": \"2025-07-13\",\n",
      "      \"flights\": null,\n",
      "      \"note\": \"No flights for these locations. Check alternate way of travel!\"\n",
      "    }\n",
      "  ]\n",
      "}\n"
     ]
    }
   ],
   "source": [
    "final_list = list(combined.values())\n",
    "\n",
    "print(\"\\n\\u2705 After merging, sample output for first city:\")\n",
    "print(json.dumps(final_list[0], indent=2))"
   ]
  },
  {
   "cell_type": "code",
   "execution_count": 14,
   "metadata": {
    "execution": {
     "iopub.execute_input": "2025-04-20T04:54:03.914756Z",
     "iopub.status.busy": "2025-04-20T04:54:03.914639Z",
     "iopub.status.idle": "2025-04-20T04:54:04.229306Z",
     "shell.execute_reply": "2025-04-20T04:54:04.229069Z"
    }
   },
   "outputs": [
    {
     "data": {
      "text/html": [
       "<div>\n",
       "<style scoped>\n",
       "    .dataframe tbody tr th:only-of-type {\n",
       "        vertical-align: middle;\n",
       "    }\n",
       "\n",
       "    .dataframe tbody tr th {\n",
       "        vertical-align: top;\n",
       "    }\n",
       "\n",
       "    .dataframe thead th {\n",
       "        text-align: right;\n",
       "    }\n",
       "</style>\n",
       "<table border=\"1\" class=\"dataframe\">\n",
       "  <thead>\n",
       "    <tr style=\"text-align: right;\">\n",
       "      <th></th>\n",
       "      <th>city</th>\n",
       "      <th>attractions</th>\n",
       "      <th>flights</th>\n",
       "      <th>hotels_bayesian_review_score</th>\n",
       "      <th>hotels_popularity</th>\n",
       "      <th>hotels_price</th>\n",
       "    </tr>\n",
       "  </thead>\n",
       "  <tbody>\n",
       "    <tr>\n",
       "      <th>0</th>\n",
       "      <td>Shimla</td>\n",
       "      <td>[{'name': 'Jakhu Hanuman Temple', 'num_reviews...</td>\n",
       "      <td>[{'to': 'Chandigarh', 'date': '2025-07-13', 'f...</td>\n",
       "      <td>[{'name': 'Wildflower Hall, An Oberoi Resort, ...</td>\n",
       "      <td>[{'name': 'Himalayan Mountain and Valley View ...</td>\n",
       "      <td>[{'name': 'Staynest Mashobra with balcony', 'p...</td>\n",
       "    </tr>\n",
       "    <tr>\n",
       "      <th>1</th>\n",
       "      <td>Chandigarh</td>\n",
       "      <td>[{'name': 'The Rock Garden of Chandigarh', 'nu...</td>\n",
       "      <td>[{'to': 'Dehradun', 'date': '2025-07-14', 'fli...</td>\n",
       "      <td>[{'name': 'Anchorage 42', 'price': 282.0490607...</td>\n",
       "      <td>[{'name': 'Hotel The Pearl Grand - Top Rated !...</td>\n",
       "      <td>[{'name': 'Hotel Golden Height2', 'price': 12....</td>\n",
       "    </tr>\n",
       "    <tr>\n",
       "      <th>2</th>\n",
       "      <td>Dehradun</td>\n",
       "      <td>[{'name': 'Forest Research Institute', 'num_re...</td>\n",
       "      <td>[{'to': 'Delhi', 'date': '2025-07-16', 'flight...</td>\n",
       "      <td>[{'name': 'vera home stay', 'price': 97.081866...</td>\n",
       "      <td>[{'name': 'Stayble Homestay', 'price': 71.1977...</td>\n",
       "      <td>[{'name': 'King Queen Home', 'price': 41.96035...</td>\n",
       "    </tr>\n",
       "    <tr>\n",
       "      <th>3</th>\n",
       "      <td>Delhi</td>\n",
       "      <td>[{'name': 'Qutub Minar', 'num_reviews': '13493...</td>\n",
       "      <td>[]</td>\n",
       "      <td>[{'name': 'Tatvamasi Homestay', 'price': 111.6...</td>\n",
       "      <td>[{'name': 'Hotel Namaste Hindustan Just a Minu...</td>\n",
       "      <td>[{'name': 'Hotel Indo continental', 'price': 9...</td>\n",
       "    </tr>\n",
       "  </tbody>\n",
       "</table>\n",
       "</div>"
      ],
      "text/plain": [
       "         city                                        attractions  \\\n",
       "0      Shimla  [{'name': 'Jakhu Hanuman Temple', 'num_reviews...   \n",
       "1  Chandigarh  [{'name': 'The Rock Garden of Chandigarh', 'nu...   \n",
       "2    Dehradun  [{'name': 'Forest Research Institute', 'num_re...   \n",
       "3       Delhi  [{'name': 'Qutub Minar', 'num_reviews': '13493...   \n",
       "\n",
       "                                             flights  \\\n",
       "0  [{'to': 'Chandigarh', 'date': '2025-07-13', 'f...   \n",
       "1  [{'to': 'Dehradun', 'date': '2025-07-14', 'fli...   \n",
       "2  [{'to': 'Delhi', 'date': '2025-07-16', 'flight...   \n",
       "3                                                 []   \n",
       "\n",
       "                        hotels_bayesian_review_score  \\\n",
       "0  [{'name': 'Wildflower Hall, An Oberoi Resort, ...   \n",
       "1  [{'name': 'Anchorage 42', 'price': 282.0490607...   \n",
       "2  [{'name': 'vera home stay', 'price': 97.081866...   \n",
       "3  [{'name': 'Tatvamasi Homestay', 'price': 111.6...   \n",
       "\n",
       "                                   hotels_popularity  \\\n",
       "0  [{'name': 'Himalayan Mountain and Valley View ...   \n",
       "1  [{'name': 'Hotel The Pearl Grand - Top Rated !...   \n",
       "2  [{'name': 'Stayble Homestay', 'price': 71.1977...   \n",
       "3  [{'name': 'Hotel Namaste Hindustan Just a Minu...   \n",
       "\n",
       "                                        hotels_price  \n",
       "0  [{'name': 'Staynest Mashobra with balcony', 'p...  \n",
       "1  [{'name': 'Hotel Golden Height2', 'price': 12....  \n",
       "2  [{'name': 'King Queen Home', 'price': 41.96035...  \n",
       "3  [{'name': 'Hotel Indo continental', 'price': 9...  "
      ]
     },
     "metadata": {},
     "output_type": "display_data"
    },
    {
     "name": "stdout",
     "output_type": "stream",
     "text": [
      "✅ Saved combined results to combined_data_hotel_attraction_flight_final.json\n"
     ]
    }
   ],
   "source": [
    "import pandas as pd\n",
    "from IPython.display import display\n",
    "\n",
    "# Flatten into a DataFrame (one row per city)\n",
    "df = pd.json_normalize(final_list, sep=\"_\")\n",
    "display(df)\n",
    "\n",
    "# Save JSON\n",
    "out_path = \"combined_data_hotel_attraction_flight_final.json\"\n",
    "with open(out_path, \"w\") as f:\n",
    "    json.dump(final_list, f, indent=2)\n",
    "\n",
    "print(\"\\u2705 Saved combined results to\", out_path)"
   ]
  },
  {
   "cell_type": "code",
   "execution_count": 15,
   "metadata": {},
   "outputs": [],
   "source": [
    "# Generate the final itinerary to be displayed\n",
    "narrative = llm_generate(inputs, trip_plan, final_list)"
   ]
  },
  {
   "cell_type": "code",
   "execution_count": 18,
   "metadata": {},
   "outputs": [],
   "source": [
    "with open(\"generated_itinerary_short.txt\", \"w\") as f:\n",
    "    f.write(narrative)"
   ]
  },
  {
   "cell_type": "code",
   "execution_count": null,
   "metadata": {},
   "outputs": [],
   "source": []
  },
  {
   "cell_type": "markdown",
   "metadata": {},
   "source": [
    "## only testing llm_retrieve markdown"
   ]
  },
  {
   "cell_type": "code",
   "execution_count": 1,
   "metadata": {},
   "outputs": [],
   "source": [
    "from llm_generate import llm_generate"
   ]
  },
  {
   "cell_type": "code",
   "execution_count": 12,
   "metadata": {},
   "outputs": [],
   "source": [
    "with open(\"user_inputs.json\", \"r\") as f:\n",
    "    inputs = json.load(f)"
   ]
  },
  {
   "cell_type": "code",
   "execution_count": 13,
   "metadata": {},
   "outputs": [
    {
     "data": {
      "text/plain": [
       "{'country': 'United States',\n",
       " 'budget_in_usd': 2000.0,\n",
       " 'from_date': '2025-07-11',\n",
       " 'to_date': '2025-07-17',\n",
       " 'num_cities': '3 to 5',\n",
       " 'num_people': 4,\n",
       " 'user_pref': 'I want to go to beaches and casinos.'}"
      ]
     },
     "execution_count": 13,
     "metadata": {},
     "output_type": "execute_result"
    }
   ],
   "source": [
    "inputs"
   ]
  },
  {
   "cell_type": "code",
   "execution_count": 14,
   "metadata": {},
   "outputs": [],
   "source": [
    "with open(\"itinerary.json\", \"r\") as f:\n",
    "    trip_plan = json.load(f)"
   ]
  },
  {
   "cell_type": "code",
   "execution_count": 15,
   "metadata": {},
   "outputs": [
    {
     "data": {
      "text/plain": [
       "{'Miami': {'Arrival Date': '2025-07-11',\n",
       "  'Departure Date': '2025-07-13',\n",
       "  'Airport': 'MIA'},\n",
       " 'Atlantic City': {'Arrival Date': '2025-07-13',\n",
       "  'Departure Date': '2025-07-15',\n",
       "  'Airport': 'ACY'},\n",
       " 'Las Vegas': {'Arrival Date': '2025-07-15',\n",
       "  'Departure Date': '2025-07-17',\n",
       "  'Airport': 'LAS'}}"
      ]
     },
     "execution_count": 15,
     "metadata": {},
     "output_type": "execute_result"
    }
   ],
   "source": [
    "trip_plan"
   ]
  },
  {
   "cell_type": "code",
   "execution_count": 16,
   "metadata": {},
   "outputs": [],
   "source": [
    "with open(\"combined_data_hotel_attraction_flight_final.json\", \"r\") as f:\n",
    "    final_list = json.load(f)"
   ]
  },
  {
   "cell_type": "code",
   "execution_count": 17,
   "metadata": {},
   "outputs": [],
   "source": [
    "final_itinerary = llm_generate(inputs, trip_plan, final_list)"
   ]
  },
  {
   "cell_type": "code",
   "execution_count": 18,
   "metadata": {},
   "outputs": [],
   "source": [
    "with open(\"final_itinerary_output23rdApril_beaches.md\", \"w\", encoding=\"utf-8\") as f:\n",
    "    f.write(final_itinerary)"
   ]
  },
  {
   "cell_type": "code",
   "execution_count": null,
   "metadata": {},
   "outputs": [],
   "source": []
  }
 ],
 "metadata": {
  "kernelspec": {
   "display_name": "base",
   "language": "python",
   "name": "python3"
  },
  "language_info": {
   "codemirror_mode": {
    "name": "ipython",
    "version": 3
   },
   "file_extension": ".py",
   "mimetype": "text/x-python",
   "name": "python",
   "nbconvert_exporter": "python",
   "pygments_lexer": "ipython3",
   "version": "3.12.2"
  }
 },
 "nbformat": 4,
 "nbformat_minor": 2
}
