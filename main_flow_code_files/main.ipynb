{
 "cells": [
  {
   "cell_type": "code",
   "execution_count": 1,
   "metadata": {
    "execution": {
     "iopub.execute_input": "2025-04-20T04:53:30.975837Z",
     "iopub.status.busy": "2025-04-20T04:53:30.975345Z",
     "iopub.status.idle": "2025-04-20T04:53:31.264410Z",
     "shell.execute_reply": "2025-04-20T04:53:31.264134Z"
    }
   },
   "outputs": [],
   "source": [
    "import asyncio\n",
    "import aiohttp\n",
    "import json\n",
    "from pprint import pprint\n",
    "\n",
    "from attraction_api import fetch_attractions\n",
    "from hotel_api import HotelRetriever\n",
    "from flight_api import FlightRetriever\n",
    "from llm_retrieve import llm_retrieve\n",
    "from llm_generate import llm_generate"
   ]
  },
  {
   "cell_type": "code",
   "execution_count": 2,
   "metadata": {
    "execution": {
     "iopub.execute_input": "2025-04-20T04:53:31.265939Z",
     "iopub.status.busy": "2025-04-20T04:53:31.265807Z",
     "iopub.status.idle": "2025-04-20T04:53:33.610697Z",
     "shell.execute_reply": "2025-04-20T04:53:33.609739Z"
    }
   },
   "outputs": [
    {
     "name": "stdout",
     "output_type": "stream",
     "text": [
      "Loaded cities and parameters:\n",
      " • Leh: Arrival=2025-07-10, Departure=2025-07-13, Airport=IXL\n",
      " • Srinagar: Arrival=2025-07-13, Departure=2025-07-16, Airport=SXR\n",
      " • Chandigarh: Arrival=2025-07-16, Departure=2025-07-18, Airport=IXC\n",
      " • Shimla: Arrival=2025-07-18, Departure=2025-07-20, Airport=SLV\n",
      " • Dehradun: Arrival=2025-07-20, Departure=2025-07-22, Airport=DED\n",
      " • Jaipur: Arrival=2025-07-22, Departure=2025-07-25, Airport=JAI\n",
      " • Udaipur: Arrival=2025-07-25, Departure=2025-07-28, Airport=UDR\n"
     ]
    }
   ],
   "source": [
    "with open(\"user_inputs.json\", \"r\") as f:\n",
    "    inputs = json.load(f)\n",
    "\n",
    "trip_plan = llm_retrieve(inputs)\n",
    "print(\"Loaded cities and parameters:\")\n",
    "for city, info in trip_plan.items():\n",
    "    print(f\" • {city}: Arrival={info['Arrival Date']}, Departure={info['Departure Date']}, Airport={info['Airport']}\")\n"
   ]
  },
  {
   "cell_type": "code",
   "execution_count": 3,
   "metadata": {
    "execution": {
     "iopub.execute_input": "2025-04-20T04:53:33.636881Z",
     "iopub.status.busy": "2025-04-20T04:53:33.636738Z",
     "iopub.status.idle": "2025-04-20T04:53:33.638952Z",
     "shell.execute_reply": "2025-04-20T04:53:33.638702Z"
    }
   },
   "outputs": [],
   "source": [
    "async def gather_all():\n",
    "    async with aiohttp.ClientSession() as session:\n",
    "        attraction_tasks = [fetch_attractions(session, city) for city in trip_plan.keys()]\n",
    "        attraction_results = await asyncio.gather(*attraction_tasks)\n",
    "\n",
    "    hotel_results = HotelRetriever(trip_plan, numadults=2)\n",
    "    flight_results = FlightRetriever(trip_plan)\n",
    "\n",
    "    return attraction_results, hotel_results, flight_results\n"
   ]
  },
  {
   "cell_type": "code",
   "execution_count": 4,
   "metadata": {
    "execution": {
     "iopub.execute_input": "2025-04-20T04:53:33.640220Z",
     "iopub.status.busy": "2025-04-20T04:53:33.640129Z",
     "iopub.status.idle": "2025-04-20T04:54:03.903407Z",
     "shell.execute_reply": "2025-04-20T04:54:03.902439Z"
    }
   },
   "outputs": [
    {
     "name": "stdout",
     "output_type": "stream",
     "text": [
      "[Attraction] 🔍 Fetching location_id for: Leh\n",
      "[Attraction] 🔍 Fetching location_id for: Srinagar\n",
      "[Attraction] 🔍 Fetching location_id for: Chandigarh\n",
      "[Attraction] 🔍 Fetching location_id for: Shimla\n",
      "[Attraction] 🔍 Fetching location_id for: Dehradun\n",
      "[Attraction] 🔍 Fetching location_id for: Jaipur\n",
      "[Attraction] 🔍 Fetching location_id for: Udaipur\n",
      "[Attraction] ✅ location_id for Dehradun = \n",
      "[Attraction] ❌ No location_id for Dehradun, returning empty list.\n",
      "[Attraction] ✅ location_id for Jaipur = \n",
      "[Attraction] ❌ No location_id for Jaipur, returning empty list.\n",
      "[Attraction] ✅ location_id for Srinagar = \n",
      "[Attraction] ❌ No location_id for Srinagar, returning empty list.\n",
      "[Attraction] ✅ location_id for Udaipur = \n",
      "[Attraction] ❌ No location_id for Udaipur, returning empty list.\n",
      "[Attraction] ✅ location_id for Chandigarh = \n",
      "[Attraction] ❌ No location_id for Chandigarh, returning empty list.\n",
      "[Attraction] ✅ location_id for Shimla = \n",
      "[Attraction] ❌ No location_id for Shimla, returning empty list.\n",
      "[Attraction] ✅ location_id for Leh = \n",
      "[Attraction] ❌ No location_id for Leh, returning empty list.\n"
     ]
    }
   ],
   "source": [
    "# Cell 4: Run & Merge\n",
    "attractions, hotels, flights = await gather_all()\n",
    "\n",
    "# Merge results by city\n",
    "combined = {city: {\"city\": city, \"attractions\": [], \"hotels\": [], \"flights\": []} for city in trip_plan}\n",
    "\n",
    "# Add attractions\n",
    "for entry in attractions:\n",
    "    combined[entry[\"city\"]][\"attractions\"] = entry[\"attractions\"]\n",
    "\n",
    "# Add hotels\n",
    "for entry in hotels:\n",
    "    city = entry[\"city\"]\n",
    "    combined[city][\"hotels\"] = entry[\"hotels_by\"]\n",
    "\n",
    "# Add flights\n",
    "for entry in flights:\n",
    "    from_city = entry[\"from\"]\n",
    "    to_city = entry[\"to\"]\n",
    "    date = entry[\"date\"]\n",
    "    flights_data = entry.get(\"flights\")\n",
    "    note = entry.get(\"note\")\n",
    "\n",
    "    # Associate the flight with departure city\n",
    "    combined[from_city].setdefault(\"flights\", []).append({\n",
    "        \"to\": to_city,\n",
    "        \"date\": date,\n",
    "        \"flights\": flights_data,\n",
    "        \"note\": note\n",
    "    })\n",
    "    "
   ]
  },
  {
   "cell_type": "code",
   "execution_count": 5,
   "metadata": {
    "execution": {
     "iopub.execute_input": "2025-04-20T04:54:03.908182Z",
     "iopub.status.busy": "2025-04-20T04:54:03.907891Z",
     "iopub.status.idle": "2025-04-20T04:54:03.912097Z",
     "shell.execute_reply": "2025-04-20T04:54:03.911530Z"
    }
   },
   "outputs": [
    {
     "name": "stdout",
     "output_type": "stream",
     "text": [
      "\n",
      "✅ After merging, sample output for first city:\n",
      "{\n",
      "  \"city\": \"Leh\",\n",
      "  \"attractions\": [],\n",
      "  \"hotels\": {\n",
      "    \"bayesian_review_score\": [\n",
      "      {\n",
      "        \"name\": \"Tendance et Charmant F2\",\n",
      "        \"price\": 341.75\n",
      "      },\n",
      "      {\n",
      "        \"name\": \"\\\"L'escapade Havraise\\\" Studio Parking gratuit Coeur de Ville\",\n",
      "        \"price\": 208.26\n",
      "      },\n",
      "      {\n",
      "        \"name\": \"L'ESTUAIRE\",\n",
      "        \"price\": 256.31\n",
      "      }\n",
      "    ],\n",
      "    \"popularity\": [\n",
      "      {\n",
      "        \"name\": \"All Suites Appart Hotel Le Havre\",\n",
      "        \"price\": 294.62\n",
      "      },\n",
      "      {\n",
      "        \"name\": \"The Originals Boutique, H\\u00f4tel Le Marignan,Le Havre Centre Gare\",\n",
      "        \"price\": 330.3\n",
      "      },\n",
      "      {\n",
      "        \"name\": \"Premiere Classe Le Havre Centre-LES DOCKS\",\n",
      "        \"price\": 232.0\n",
      "      }\n",
      "    ],\n",
      "    \"price\": [\n",
      "      {\n",
      "        \"name\": \"Bel appartement avec parking et terrasse plein sud\",\n",
      "        \"price\": 134.57\n",
      "      },\n",
      "      {\n",
      "        \"name\": \"Studio Center\",\n",
      "        \"price\": 138.84\n",
      "      },\n",
      "      {\n",
      "        \"name\": \"Paradise cach\\u00e9\",\n",
      "        \"price\": 147.38\n",
      "      }\n",
      "    ]\n",
      "  },\n",
      "  \"flights\": [\n",
      "    {\n",
      "      \"to\": \"Srinagar\",\n",
      "      \"date\": \"2025-07-13\",\n",
      "      \"flights\": [\n",
      "        {\n",
      "          \"type\": \"FASTEST\",\n",
      "          \"price_usd\": 780,\n",
      "          \"departure_time\": \"2025-07-13T08:30:00\",\n",
      "          \"arrival_time\": \"2025-07-13T12:45:00\"\n",
      "        },\n",
      "        {\n",
      "          \"type\": \"BEST\",\n",
      "          \"price_usd\": 780,\n",
      "          \"departure_time\": \"2025-07-13T08:30:00\",\n",
      "          \"arrival_time\": \"2025-07-13T12:45:00\"\n",
      "        }\n",
      "      ],\n",
      "      \"note\": null\n",
      "    }\n",
      "  ]\n",
      "}\n"
     ]
    }
   ],
   "source": [
    "final_list = list(combined.values())\n",
    "\n",
    "print(\"\\n\\u2705 After merging, sample output for first city:\")\n",
    "print(json.dumps(final_list[0], indent=2))"
   ]
  },
  {
   "cell_type": "code",
   "execution_count": 6,
   "metadata": {
    "execution": {
     "iopub.execute_input": "2025-04-20T04:54:03.914756Z",
     "iopub.status.busy": "2025-04-20T04:54:03.914639Z",
     "iopub.status.idle": "2025-04-20T04:54:04.229306Z",
     "shell.execute_reply": "2025-04-20T04:54:04.229069Z"
    }
   },
   "outputs": [
    {
     "data": {
      "text/html": [
       "<div>\n",
       "<style scoped>\n",
       "    .dataframe tbody tr th:only-of-type {\n",
       "        vertical-align: middle;\n",
       "    }\n",
       "\n",
       "    .dataframe tbody tr th {\n",
       "        vertical-align: top;\n",
       "    }\n",
       "\n",
       "    .dataframe thead th {\n",
       "        text-align: right;\n",
       "    }\n",
       "</style>\n",
       "<table border=\"1\" class=\"dataframe\">\n",
       "  <thead>\n",
       "    <tr style=\"text-align: right;\">\n",
       "      <th></th>\n",
       "      <th>city</th>\n",
       "      <th>attractions</th>\n",
       "      <th>flights</th>\n",
       "      <th>hotels_bayesian_review_score</th>\n",
       "      <th>hotels_popularity</th>\n",
       "      <th>hotels_price</th>\n",
       "    </tr>\n",
       "  </thead>\n",
       "  <tbody>\n",
       "    <tr>\n",
       "      <th>0</th>\n",
       "      <td>Leh</td>\n",
       "      <td>[]</td>\n",
       "      <td>[{'to': 'Srinagar', 'date': '2025-07-13', 'fli...</td>\n",
       "      <td>[{'name': 'Tendance et Charmant F2', 'price': ...</td>\n",
       "      <td>[{'name': 'All Suites Appart Hotel Le Havre', ...</td>\n",
       "      <td>[{'name': 'Bel appartement avec parking et ter...</td>\n",
       "    </tr>\n",
       "    <tr>\n",
       "      <th>1</th>\n",
       "      <td>Srinagar</td>\n",
       "      <td>[]</td>\n",
       "      <td>[{'to': 'Chandigarh', 'date': '2025-07-16', 'f...</td>\n",
       "      <td>[{'name': 'John's Homestay', 'price': 82.65}, ...</td>\n",
       "      <td>[{'name': 'Dilnaaz group of houseboats', 'pric...</td>\n",
       "      <td>[{'name': 'LalaApartment', 'price': 19.6}, {'n...</td>\n",
       "    </tr>\n",
       "    <tr>\n",
       "      <th>2</th>\n",
       "      <td>Chandigarh</td>\n",
       "      <td>[]</td>\n",
       "      <td>[{'to': 'Shimla', 'date': '2025-07-18', 'fligh...</td>\n",
       "      <td>[{'name': 'Anchorage 42', 'price': 183.67}, {'...</td>\n",
       "      <td>[{'name': 'Hyatt Regency Chandigarh', 'price':...</td>\n",
       "      <td>[{'name': 'Hotel Golden Height2', 'price': 10....</td>\n",
       "    </tr>\n",
       "    <tr>\n",
       "      <th>3</th>\n",
       "      <td>Shimla</td>\n",
       "      <td>[]</td>\n",
       "      <td>[{'to': 'Dehradun', 'date': '2025-07-20', 'fli...</td>\n",
       "      <td>[{'name': 'Wildflower Hall, An Oberoi Resort, ...</td>\n",
       "      <td>[{'name': 'Victory Hotel and Restaurant by GS ...</td>\n",
       "      <td>[{'name': 'Staynest Mashobra with balcony', 'p...</td>\n",
       "    </tr>\n",
       "    <tr>\n",
       "      <th>4</th>\n",
       "      <td>Dehradun</td>\n",
       "      <td>[]</td>\n",
       "      <td>[{'to': 'Jaipur', 'date': '2025-07-22', 'fligh...</td>\n",
       "      <td>[{'name': 'Rootz', 'price': 70.25}, {'name': '...</td>\n",
       "      <td>[{'name': 'Treebo Kanopy Greens', 'price': 83....</td>\n",
       "      <td>[{'name': 'Ananda Vatika Homestay', 'price': 1...</td>\n",
       "    </tr>\n",
       "    <tr>\n",
       "      <th>5</th>\n",
       "      <td>Jaipur</td>\n",
       "      <td>[]</td>\n",
       "      <td>[{'to': 'Udaipur', 'date': '2025-07-25', 'flig...</td>\n",
       "      <td>[{'name': 'Home of the world', 'price': 106.27...</td>\n",
       "      <td>[{'name': 'Treebo Premium Baramasi By Jai Club...</td>\n",
       "      <td>[{'name': 'Eco Family Hostel', 'price': 14.7},...</td>\n",
       "    </tr>\n",
       "    <tr>\n",
       "      <th>6</th>\n",
       "      <td>Udaipur</td>\n",
       "      <td>[]</td>\n",
       "      <td>[]</td>\n",
       "      <td>[{'name': 'Oolala - Your lake house in the cen...</td>\n",
       "      <td>[{'name': 'Hotel The Grand Bhagwat Inn City Ce...</td>\n",
       "      <td>[{'name': 'Hotel stay inn', 'price': 14.13}, {...</td>\n",
       "    </tr>\n",
       "  </tbody>\n",
       "</table>\n",
       "</div>"
      ],
      "text/plain": [
       "         city attractions                                            flights  \\\n",
       "0         Leh          []  [{'to': 'Srinagar', 'date': '2025-07-13', 'fli...   \n",
       "1    Srinagar          []  [{'to': 'Chandigarh', 'date': '2025-07-16', 'f...   \n",
       "2  Chandigarh          []  [{'to': 'Shimla', 'date': '2025-07-18', 'fligh...   \n",
       "3      Shimla          []  [{'to': 'Dehradun', 'date': '2025-07-20', 'fli...   \n",
       "4    Dehradun          []  [{'to': 'Jaipur', 'date': '2025-07-22', 'fligh...   \n",
       "5      Jaipur          []  [{'to': 'Udaipur', 'date': '2025-07-25', 'flig...   \n",
       "6     Udaipur          []                                                 []   \n",
       "\n",
       "                        hotels_bayesian_review_score  \\\n",
       "0  [{'name': 'Tendance et Charmant F2', 'price': ...   \n",
       "1  [{'name': 'John's Homestay', 'price': 82.65}, ...   \n",
       "2  [{'name': 'Anchorage 42', 'price': 183.67}, {'...   \n",
       "3  [{'name': 'Wildflower Hall, An Oberoi Resort, ...   \n",
       "4  [{'name': 'Rootz', 'price': 70.25}, {'name': '...   \n",
       "5  [{'name': 'Home of the world', 'price': 106.27...   \n",
       "6  [{'name': 'Oolala - Your lake house in the cen...   \n",
       "\n",
       "                                   hotels_popularity  \\\n",
       "0  [{'name': 'All Suites Appart Hotel Le Havre', ...   \n",
       "1  [{'name': 'Dilnaaz group of houseboats', 'pric...   \n",
       "2  [{'name': 'Hyatt Regency Chandigarh', 'price':...   \n",
       "3  [{'name': 'Victory Hotel and Restaurant by GS ...   \n",
       "4  [{'name': 'Treebo Kanopy Greens', 'price': 83....   \n",
       "5  [{'name': 'Treebo Premium Baramasi By Jai Club...   \n",
       "6  [{'name': 'Hotel The Grand Bhagwat Inn City Ce...   \n",
       "\n",
       "                                        hotels_price  \n",
       "0  [{'name': 'Bel appartement avec parking et ter...  \n",
       "1  [{'name': 'LalaApartment', 'price': 19.6}, {'n...  \n",
       "2  [{'name': 'Hotel Golden Height2', 'price': 10....  \n",
       "3  [{'name': 'Staynest Mashobra with balcony', 'p...  \n",
       "4  [{'name': 'Ananda Vatika Homestay', 'price': 1...  \n",
       "5  [{'name': 'Eco Family Hostel', 'price': 14.7},...  \n",
       "6  [{'name': 'Hotel stay inn', 'price': 14.13}, {...  "
      ]
     },
     "metadata": {},
     "output_type": "display_data"
    },
    {
     "name": "stdout",
     "output_type": "stream",
     "text": [
      "✅ Saved combined results to combined_data_hotel_attraction_flight_final.json\n"
     ]
    }
   ],
   "source": [
    "import pandas as pd\n",
    "from IPython.display import display\n",
    "\n",
    "# Flatten into a DataFrame (one row per city)\n",
    "df = pd.json_normalize(final_list, sep=\"_\")\n",
    "display(df)\n",
    "\n",
    "# Save JSON\n",
    "out_path = \"combined_data_hotel_attraction_flight_final.json\"\n",
    "with open(out_path, \"w\") as f:\n",
    "    json.dump(final_list, f, indent=2)\n",
    "\n",
    "print(\"\\u2705 Saved combined results to\", out_path)"
   ]
  },
  {
   "cell_type": "code",
   "execution_count": 7,
   "metadata": {},
   "outputs": [],
   "source": [
    "# Generate the final itinerary to be displayed\n",
    "narrative = llm_generate(inputs, trip_plan, final_list)\n",
    "\n",
    "with open(\"generated_itinerary.txt\", \"w\") as f:\n",
    "    f.write(narrative)"
   ]
  },
  {
   "cell_type": "code",
   "execution_count": null,
   "metadata": {},
   "outputs": [],
   "source": []
  }
 ],
 "metadata": {
  "kernelspec": {
   "display_name": "base",
   "language": "python",
   "name": "python3"
  },
  "language_info": {
   "codemirror_mode": {
    "name": "ipython",
    "version": 3
   },
   "file_extension": ".py",
   "mimetype": "text/x-python",
   "name": "python",
   "nbconvert_exporter": "python",
   "pygments_lexer": "ipython3",
   "version": "3.12.7"
  }
 },
 "nbformat": 4,
 "nbformat_minor": 2
}
